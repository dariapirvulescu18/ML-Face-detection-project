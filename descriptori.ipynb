{
 "cells": [
  {
   "cell_type": "code",
   "id": "initial_id",
   "metadata": {
    "collapsed": true,
    "ExecuteTime": {
     "end_time": "2025-01-18T13:08:15.824978Z",
     "start_time": "2025-01-18T13:08:15.660381Z"
    }
   },
   "source": [
    "import copy\n",
    "import numpy as np\n",
    "import os\n",
    "import cv2 as cv\n",
    "from skimage.feature import hog\n",
    "from tqdm import tqdm"
   ],
   "outputs": [],
   "execution_count": 1
  },
  {
   "metadata": {
    "ExecuteTime": {
     "end_time": "2025-01-18T13:08:16.399840Z",
     "start_time": "2025-01-18T13:08:16.381715Z"
    }
   },
   "cell_type": "code",
   "source": [
    "def IOU(bbox_a, bbox_b):\n",
    "    x_a = max(bbox_a[0], bbox_b[0])\n",
    "    y_a = max(bbox_a[1], bbox_b[1])\n",
    "    x_b = min(bbox_a[2], bbox_b[2])\n",
    "    y_b = min(bbox_a[3], bbox_b[3])\n",
    "\n",
    "    inter_area = max(0, x_b - x_a + 1) * max(0, y_b - y_a + 1)\n",
    "\n",
    "    box_a_area = (bbox_a[2] - bbox_a[0] + 1) * (bbox_a[3] - bbox_a[1] + 1)\n",
    "    box_b_area = (bbox_b[2] - bbox_b[0] + 1) * (bbox_b[3] - bbox_b[1] + 1)\n",
    "\n",
    "    iou = inter_area / float(box_a_area + box_b_area - inter_area)\n",
    "\n",
    "    return iou\n"
   ],
   "id": "5b93b897e6fab86b",
   "outputs": [],
   "execution_count": 2
  },
  {
   "metadata": {
    "ExecuteTime": {
     "end_time": "2025-01-18T13:08:20.107345Z",
     "start_time": "2025-01-18T13:08:20.086417Z"
    }
   },
   "cell_type": "code",
   "source": [
    "def prelucrare_adnotari(fisier_adnotari):\n",
    "    dict_adnotari = {}\n",
    "    with open(fisier_adnotari, \"r\") as txt_file:\n",
    "        content = txt_file.readlines()\n",
    "\n",
    "    for row in content:\n",
    "        linie = row.strip().split()\n",
    "        image_name = linie[0]\n",
    "        coordinates = list(map(int, linie[1:5]))\n",
    "        nume = linie[5]\n",
    "\n",
    "        if image_name not in dict_adnotari:\n",
    "            dict_adnotari[image_name] = {}\n",
    "\n",
    "        if nume not in dict_adnotari[image_name]:\n",
    "            dict_adnotari[image_name][nume] = []\n",
    "\n",
    "        dict_adnotari[image_name][nume].append(coordinates)\n",
    "\n",
    "    return dict_adnotari\n"
   ],
   "id": "53529dee7d35ebd4",
   "outputs": [],
   "execution_count": 3
  },
  {
   "metadata": {
    "ExecuteTime": {
     "end_time": "2025-01-18T13:08:21.431884Z",
     "start_time": "2025-01-18T13:08:21.419905Z"
    }
   },
   "cell_type": "code",
   "source": [
    "dim_fereastra_patrata = 96\n",
    "latime_fereastra_dreptunghi = 96\n",
    "inaltime_fereastra_dreptunghi = 64\n",
    "dim_celuala_hog_patrat = 12\n",
    "dim_celula_hog_dreptunghi = 12\n",
    "orient = 12"
   ],
   "id": "fc138c84c8d76d1a",
   "outputs": [],
   "execution_count": 4
  },
  {
   "metadata": {
    "ExecuteTime": {
     "end_time": "2025-01-18T13:08:29.400815Z",
     "start_time": "2025-01-18T13:08:29.376104Z"
    }
   },
   "cell_type": "code",
   "source": [
    "def descriptori_negativi(fisier_imagini,dictionar_adnotari):\n",
    "    files=os.listdir(fisier_imagini)\n",
    "    # os.makedirs(\"./exemple_img_neg\",exist_ok=True)\n",
    "    nr_imagini_salvate = 1000\n",
    "    nr_random_latime = 10\n",
    "    nr_max_incercari = 150\n",
    "    descriptori_patrat = []\n",
    "    descriptori_dreptunghi = []\n",
    "    descriptori_dreptunghi_inalt = []\n",
    "    patch_salvate = []\n",
    "    \n",
    "    for file in tqdm(files):\n",
    "        # print(file)\n",
    "        patch=None\n",
    "        img = cv.imread(fisier_imagini + file)\n",
    "        img = cv.cvtColor(img,cv.COLOR_BGR2GRAY)\n",
    "        img = np.array(img, dtype=np.uint8)\n",
    "        \n",
    "        #generam patchuri random square\n",
    "        for _ in range(nr_random_latime):\n",
    "            for _ in range(nr_max_incercari):\n",
    "                latime_aleasa = np.random.randint(20,270)\n",
    "                inaltime_aleasa = latime_aleasa \n",
    "                # print(f\"latime_aleasa: {latime_aleasa}\")\n",
    "                # print(inaltime_aleasa)\n",
    "                x_min = np.random.randint(0,img.shape[1]-latime_aleasa)\n",
    "                y_min = np.random.randint(0,img.shape[0]-inaltime_aleasa)\n",
    "                x_max = x_min + latime_aleasa\n",
    "                y_max = y_min +latime_aleasa\n",
    "                bbox1 = [x_min,y_min,x_max,y_max]\n",
    "                valid = True\n",
    "                keys = dictionar_adnotari[file].keys()\n",
    "                for key in keys:\n",
    "                    if not valid:\n",
    "                        break\n",
    "                    for bbox2 in dictionar_adnotari[file][key]:\n",
    "                        if IOU(bbox1,bbox2) > 0.3:\n",
    "                            valid = False\n",
    "                            break\n",
    "                for p in patch_salvate:\n",
    "                    if IOU(bbox1, p) > 0.3:\n",
    "                        valid = False\n",
    "                        break\n",
    "                if valid:\n",
    "                    #prelucram patchul\n",
    "                    patch_salvate.append(bbox1)\n",
    "                    patch = img[y_min:y_max, x_min:x_max]\n",
    "                    # if nr_imagini_salvate>0:\n",
    "                    #     cv.imwrite(f\"./exemple_img_neg/patrat_{nr_imagini_salvate}.jpg\", patch)\n",
    "                    #     nr_imagini_salvate = nr_imagini_salvate - 1\n",
    "                    patch = cv.resize(patch, (dim_fereastra_patrata, dim_fereastra_patrata))\n",
    "                    descriptor = hog(patch, pixels_per_cell=(dim_celuala_hog_patrat, dim_celuala_hog_patrat), cells_per_block=(2, 2), feature_vector=True, block_norm='L2-Hys',orientations = orient )\n",
    "                    descriptori_patrat.append(descriptor)\n",
    "                    break\n",
    "        patch_salvate=[] \n",
    "        #generam patchuri random dreptunghi\n",
    "        for _ in range(nr_random_latime):\n",
    "            for _ in range(nr_max_incercari):\n",
    "                latime_aleasa = np.random.randint(20,270)\n",
    "                inaltime_aleasa = (2*latime_aleasa)//3\n",
    "                x_min = np.random.randint(0,img.shape[1]-latime_aleasa)\n",
    "                y_min = np.random.randint(0,img.shape[0]-inaltime_aleasa)\n",
    "                x_max = x_min + latime_aleasa\n",
    "                y_max = y_min + inaltime_aleasa\n",
    "                bbox1 = [x_min,y_min,x_max,y_max]\n",
    "                valid = True\n",
    "                keys = dictionar_adnotari[file].keys()\n",
    "                for key in keys:\n",
    "                    if not valid:\n",
    "                        break\n",
    "                    for bbox2 in dictionar_adnotari[file][key]:\n",
    "                        if IOU(bbox1,bbox2) > 0.3:\n",
    "                            valid = False\n",
    "                            break\n",
    "                for p in patch_salvate:\n",
    "                    if IOU(bbox1, p) > 0.3:\n",
    "                        valid = False\n",
    "                        break\n",
    "                if valid:\n",
    "                    #prelucram patchul\n",
    "                    patch_salvate.append(bbox1)\n",
    "                    patch = img[y_min:y_max, x_min:x_max]\n",
    "                    # if nr_imagini_salvate>0:\n",
    "                    #     cv.imwrite(f\"./exemple_img_neg/dreptunghi_{nr_imagini_salvate}.jpg\", patch)\n",
    "                    #     nr_imagini_salvate = nr_imagini_salvate -1\n",
    "                    patch = cv.resize(patch, (latime_fereastra_dreptunghi, inaltime_fereastra_dreptunghi))\n",
    "                    descriptor = hog(patch, pixels_per_cell=(dim_celula_hog_dreptunghi, dim_celula_hog_dreptunghi), cells_per_block=(2, 2), feature_vector=True, block_norm='L2-Hys',orientations = orient)\n",
    "                    descriptori_dreptunghi.append(descriptor)\n",
    "                    break\n",
    "        patch_salvate=[]\n",
    "        #generam patchuri random dreptunghi inalt\n",
    "        for _ in range(nr_random_latime):\n",
    "            for _ in range(nr_max_incercari):\n",
    "                latime_aleasa = np.random.randint(20,230)\n",
    "                inaltime_aleasa = (3*latime_aleasa)//2\n",
    "                x_min = np.random.randint(0,img.shape[1]-latime_aleasa)\n",
    "                y_min = np.random.randint(0,img.shape[0]-inaltime_aleasa)\n",
    "                x_max = x_min + latime_aleasa\n",
    "                y_max = y_min + inaltime_aleasa\n",
    "                bbox1 = [x_min,y_min,x_max,y_max]\n",
    "                valid = True\n",
    "                keys = dictionar_adnotari[file].keys()\n",
    "                for key in keys:\n",
    "                    if not valid:\n",
    "                        break\n",
    "                    for bbox2 in dictionar_adnotari[file][key]:\n",
    "                        if IOU(bbox1,bbox2) > 0.3:\n",
    "                            valid = False\n",
    "                            break\n",
    "                for p in patch_salvate:\n",
    "                    if IOU(bbox1, p) > 0.3:\n",
    "                        valid = False\n",
    "                        break\n",
    "                if valid:\n",
    "                    #prelucram patchul\n",
    "                    patch_salvate.append(bbox1)\n",
    "                    patch = img[y_min:y_max, x_min:x_max]\n",
    "                    # if nr_imagini_salvate>0:\n",
    "                    #     cv.imwrite(f\"./exemple_img_neg/dreptunghi_inalt_{nr_imagini_salvate}.jpg\", patch)\n",
    "                    #     nr_imagini_salvate = nr_imagini_salvate -1\n",
    "                    patch = cv.resize(patch, (inaltime_fereastra_dreptunghi,latime_fereastra_dreptunghi))\n",
    "                    descriptor = hog(patch, pixels_per_cell=(dim_celula_hog_dreptunghi, dim_celula_hog_dreptunghi), cells_per_block=(2, 2), feature_vector=True,block_norm='L2-Hys',orientations = orient)\n",
    "                    descriptori_dreptunghi_inalt.append(descriptor)\n",
    "                    break\n",
    "    return descriptori_patrat, descriptori_dreptunghi, descriptori_dreptunghi_inalt\n",
    "\n"
   ],
   "id": "cb1d2253dabb7e6c",
   "outputs": [],
   "execution_count": 5
  },
  {
   "metadata": {
    "ExecuteTime": {
     "end_time": "2025-01-18T13:14:21.183164Z",
     "start_time": "2025-01-18T13:08:33.540231Z"
    }
   },
   "cell_type": "code",
   "source": [
    "dict_dad = prelucrare_adnotari('./antrenare/dad_annotations.txt')\n",
    "dict_deedee = prelucrare_adnotari('./antrenare/deedee_annotations.txt')\n",
    "dict_dexter = prelucrare_adnotari('./antrenare/dexter_annotations.txt')\n",
    "dict_mom = prelucrare_adnotari('./antrenare/mom_annotations.txt')\n",
    "os.makedirs('./descriptori_negativi',exist_ok=True)\n",
    "os.makedirs('./descriptori_negativi/patrat',exist_ok=True)\n",
    "os.makedirs('./descriptori_negativi/dreptunghi',exist_ok=True)\n",
    "os.makedirs('./descriptori_negativi/dreptunghi_inalt',exist_ok=True)\n",
    "\n",
    "patrat, drept, drept_lung = descriptori_negativi('./antrenare/dad/',dict_dad)\n",
    "descr_patrat = copy.deepcopy(patrat) \n",
    "descr_drept = copy.deepcopy(drept)\n",
    "descr_lung = copy.deepcopy(drept_lung)\n",
    "\n",
    "patrat, drept, drept_lung = descriptori_negativi('./antrenare/deedee/',dict_deedee)\n",
    "descr_patrat = np.concatenate([descr_patrat,patrat])\n",
    "descr_drept = np.concatenate([descr_drept,drept])\n",
    "descr_lung = np.concatenate([descr_lung,drept_lung])\n",
    "\n",
    "patrat, drept, drept_lung = descriptori_negativi('./antrenare/dexter/',dict_dexter)\n",
    "descr_patrat = np.concatenate([descr_patrat,patrat])\n",
    "descr_drept = np.concatenate([descr_drept,drept])\n",
    "descr_lung = np.concatenate([descr_lung,drept_lung])\n",
    "\n",
    "patrat, drept, drept_lung = descriptori_negativi('./antrenare/mom/',dict_mom)\n",
    "descr_patrat = np.concatenate([descr_patrat,patrat])\n",
    "descr_drept = np.concatenate([descr_drept,drept])\n",
    "descr_lung = np.concatenate([descr_lung,drept_lung])\n",
    "\n",
    "np.save(f'./descriptori_negativi/patrat/descr_neg',descr_patrat)\n",
    "\n",
    "np.save(f'./descriptori_negativi/dreptunghi/descr_neg',descr_drept)\n",
    "\n",
    "np.save(f'./descriptori_negativi/dreptunghi_inalt/descr_neg',descr_lung)\n",
    "\n",
    "\n",
    "\n",
    "\n",
    "\n"
   ],
   "id": "8d905e6a479cc67a",
   "outputs": [
    {
     "name": "stderr",
     "output_type": "stream",
     "text": [
      "100%|██████████| 1000/1000 [01:43<00:00,  9.66it/s]\n",
      "100%|██████████| 1000/1000 [01:30<00:00, 11.10it/s]\n",
      "100%|██████████| 1000/1000 [01:28<00:00, 11.29it/s]\n",
      "100%|██████████| 1000/1000 [01:01<00:00, 16.31it/s]\n"
     ]
    }
   ],
   "execution_count": 6
  },
  {
   "metadata": {
    "ExecuteTime": {
     "end_time": "2025-01-18T13:14:21.199276Z",
     "start_time": "2025-01-18T13:14:21.185148Z"
    }
   },
   "cell_type": "code",
   "source": [
    "def descriptori_pozitivi(fisier_imagini,latime_fereastra, inaltime_fereastra, dim_celuala_hog, format ):\n",
    "    files=os.listdir(fisier_imagini)\n",
    "    descriptori_dad = []\n",
    "    descriptori_deedee = []\n",
    "    descriptori_dexter = []\n",
    "    descriptori_mom = []\n",
    "    descriptori_unkown = []\n",
    "    characters=['dad','deedee','dexter','mom','unknown']\n",
    "    for pers in characters:\n",
    "        for file in tqdm(files):\n",
    "            # print(file)\n",
    "            if file.startswith(pers):\n",
    "                img = cv.imread(fisier_imagini + file)\n",
    "                img = cv.cvtColor(img,cv.COLOR_BGR2GRAY)\n",
    "                img = np.array(img, dtype=np.uint8)\n",
    "                patch = cv.resize(img, (latime_fereastra, inaltime_fereastra))\n",
    "                descriptor = hog(patch, pixels_per_cell=(dim_celuala_hog, dim_celuala_hog), cells_per_block=(2, 2), feature_vector=True, block_norm='L2-Hys',orientations = orient)\n",
    "                descriptor_flipedlr = hog(np.fliplr(patch), pixels_per_cell=(dim_celuala_hog, dim_celuala_hog), cells_per_block=(2, 2), feature_vector=True, block_norm='L2-Hys',orientations = orient)\n",
    "                # descriptor_flipedud = hog(np.flipud(patch), pixels_per_cell=(dim_celuala_hog, dim_celuala_hog), cells_per_block=(2, 2), feature_vector=True, block_norm='L2-Hys')\n",
    "                rows, cols = patch.shape\n",
    "                M = cv.getRotationMatrix2D((cols / 2, rows / 2), 7, 1)\n",
    "                rotated = cv.warpAffine(patch, M, (cols, rows))\n",
    "                descriptor_rotated = hog(rotated, pixels_per_cell=(dim_celuala_hog, dim_celuala_hog), cells_per_block=(2, 2), feature_vector=True, block_norm='L2-Hys',orientations = orient)\n",
    "                if pers == 'dad':\n",
    "                    descriptori_dad.append(descriptor)\n",
    "                    descriptori_dad.append(descriptor_flipedlr)\n",
    "                    # descriptori_dad.append(descriptor_flipedud)\n",
    "                    descriptori_dad.append(descriptor_rotated)\n",
    "                if pers == 'deedee':\n",
    "                    descriptori_deedee.append(descriptor)\n",
    "                    descriptori_deedee.append(descriptor_flipedlr)\n",
    "                    # descriptori_deedee.append(descriptor_flipedud)\n",
    "                    descriptori_deedee.append(descriptor_rotated)\n",
    "                if pers == 'dexter':\n",
    "                    descriptori_dexter.append(descriptor)\n",
    "                    descriptori_dexter.append(descriptor_flipedlr)\n",
    "                    # descriptori_dexter.append(descriptor_flipedud)\n",
    "                    descriptori_dexter.append(descriptor_rotated)\n",
    "                if pers == 'mom':\n",
    "                    descriptori_mom.append(descriptor)\n",
    "                    descriptori_mom.append(descriptor_flipedlr)\n",
    "                    # descriptori_mom.append(descriptor_flipedud)\n",
    "                    descriptori_mom.append(descriptor_rotated)\n",
    "                if pers == 'unknown':\n",
    "                    descriptori_unkown.append(descriptor)\n",
    "                    descriptori_unkown.append(descriptor_flipedlr)\n",
    "                    # descriptori_unkown.append(descriptor_flipedud)\n",
    "                    descriptori_unkown.append(descriptor_rotated)\n",
    "    \n",
    "    np.save(f'./descriptori_pozitivi/{format}/dad',descriptori_dad)\n",
    "\n",
    "    np.save(f'./descriptori_pozitivi/{format}/deedee',descriptori_deedee)\n",
    "\n",
    "    np.save(f'./descriptori_pozitivi/{format}/dexter',descriptori_dexter)\n",
    "\n",
    "    np.save(f'./descriptori_pozitivi/{format}/mom',descriptori_mom)\n",
    "\n",
    "    np.save(f'./descriptori_pozitivi/{format}/unknown',descriptori_unkown)\n",
    "   "
   ],
   "id": "dd1d087db4af62c8",
   "outputs": [],
   "execution_count": 7
  },
  {
   "metadata": {
    "ExecuteTime": {
     "end_time": "2025-01-18T13:14:21.214439Z",
     "start_time": "2025-01-18T13:14:21.200374Z"
    }
   },
   "cell_type": "code",
   "source": [
    "os.makedirs('./descriptori_pozitivi',exist_ok=True)\n",
    "os.makedirs('./descriptori_pozitivi/patrat',exist_ok=True)\n",
    "os.makedirs('./descriptori_pozitivi/dreptunghi',exist_ok=True)\n",
    "os.makedirs('./descriptori_pozitivi/dreptunghi_inalt',exist_ok=True)"
   ],
   "id": "6d2608ddea2fc41",
   "outputs": [],
   "execution_count": 8
  },
  {
   "metadata": {},
   "cell_type": "code",
   "outputs": [],
   "execution_count": null,
   "source": "",
   "id": "19646e00dac853d8"
  },
  {
   "metadata": {
    "ExecuteTime": {
     "end_time": "2025-01-18T13:17:57.930232Z",
     "start_time": "2025-01-18T13:14:21.216585Z"
    }
   },
   "cell_type": "code",
   "source": [
    "descriptori_pozitivi('./exemple_pozitive_nerestrictive/patrat/',dim_fereastra_patrata,dim_fereastra_patrata,dim_celuala_hog_patrat,'patrat')\n",
    "descriptori_pozitivi('./exemple_pozitive_nerestrictive/dreptunghi/',latime_fereastra_dreptunghi,inaltime_fereastra_dreptunghi,dim_celula_hog_dreptunghi,'dreptunghi')\n",
    "descriptori_pozitivi('./exemple_pozitive_nerestrictive/dreptunghi_inalt/',inaltime_fereastra_dreptunghi,latime_fereastra_dreptunghi,dim_celula_hog_dreptunghi,'dreptunghi_inalt')\n"
   ],
   "id": "be0a23ec4fb87313",
   "outputs": [
    {
     "name": "stderr",
     "output_type": "stream",
     "text": [
      "100%|██████████| 4314/4314 [00:45<00:00, 93.98it/s]\n",
      "100%|██████████| 4314/4314 [00:07<00:00, 539.80it/s]  \n",
      "100%|██████████| 4314/4314 [00:22<00:00, 189.52it/s]  \n",
      "100%|██████████| 4314/4314 [00:16<00:00, 262.28it/s]  \n",
      "100%|██████████| 4314/4314 [00:08<00:00, 511.25it/s]  \n",
      "100%|██████████| 3787/3787 [00:04<00:00, 871.16it/s]\n",
      "100%|██████████| 3787/3787 [00:29<00:00, 129.80it/s]\n",
      "100%|██████████| 3787/3787 [00:32<00:00, 117.12it/s] \n",
      "100%|██████████| 3787/3787 [00:06<00:00, 554.82it/s]  \n",
      "100%|██████████| 3787/3787 [00:03<00:00, 1032.73it/s] \n",
      "100%|██████████| 2639/2639 [00:15<00:00, 168.49it/s]\n",
      "100%|██████████| 2639/2639 [00:00<00:00, 2664.03it/s] \n",
      "100%|██████████| 2639/2639 [00:03<00:00, 698.84it/s]  \n",
      "100%|██████████| 2639/2639 [00:12<00:00, 203.65it/s]  \n",
      "100%|██████████| 2639/2639 [00:04<00:00, 630.98it/s]  \n"
     ]
    }
   ],
   "execution_count": 9
  }
 ],
 "metadata": {
  "kernelspec": {
   "display_name": "Python 3",
   "language": "python",
   "name": "python3"
  },
  "language_info": {
   "codemirror_mode": {
    "name": "ipython",
    "version": 2
   },
   "file_extension": ".py",
   "mimetype": "text/x-python",
   "name": "python",
   "nbconvert_exporter": "python",
   "pygments_lexer": "ipython2",
   "version": "2.7.6"
  }
 },
 "nbformat": 4,
 "nbformat_minor": 5
}
