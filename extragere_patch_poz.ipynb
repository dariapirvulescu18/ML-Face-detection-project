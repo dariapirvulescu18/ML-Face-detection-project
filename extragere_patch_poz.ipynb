{
 "cells": [
  {
   "cell_type": "code",
   "id": "initial_id",
   "metadata": {
    "collapsed": true,
    "ExecuteTime": {
     "end_time": "2025-01-20T14:37:16.131461Z",
     "start_time": "2025-01-20T14:37:15.539018Z"
    }
   },
   "source": [
    "import numpy as np\n",
    "import matplotlib.pyplot as plt\n",
    "import os\n",
    "import cv2 as cv"
   ],
   "execution_count": 4,
   "outputs": []
  },
  {
   "metadata": {
    "ExecuteTime": {
     "end_time": "2025-01-16T19:58:46.996100Z",
     "start_time": "2025-01-16T19:58:46.983838Z"
    }
   },
   "cell_type": "code",
   "source": [
    "def prelucrare_adnotari(fisier_adnotari):\n",
    "    dict_adnotari = {}\n",
    "    with open(fisier_adnotari, \"r\") as txt_file:\n",
    "        content = txt_file.readlines()\n",
    "\n",
    "    for row in content:\n",
    "        linie = row.strip().split()\n",
    "        image_name = linie[0]\n",
    "        coordinates = list(map(int, linie[1:5]))\n",
    "        nume = linie[5]\n",
    "\n",
    "        if image_name not in dict_adnotari:\n",
    "            dict_adnotari[image_name] = {}\n",
    "\n",
    "        if nume not in dict_adnotari[image_name]:\n",
    "            dict_adnotari[image_name][nume] = []\n",
    "\n",
    "        dict_adnotari[image_name][nume].append(coordinates)\n",
    "    \n",
    "    return dict_adnotari\n"
   ],
   "id": "44b78539f0b7a8c3",
   "execution_count": 5,
   "outputs": []
  },
  {
   "metadata": {
    "ExecuteTime": {
     "end_time": "2025-01-16T19:58:47.010838Z",
     "start_time": "2025-01-16T19:58:46.997251Z"
    }
   },
   "cell_type": "code",
   "source": "# print(prelucrare_adnotari('./antrenare/dad_annotations.txt'))",
   "id": "8b8fa10e2c52b2eb",
   "execution_count": 6,
   "outputs": []
  },
  {
   "metadata": {
    "ExecuteTime": {
     "end_time": "2025-01-16T19:58:47.026531Z",
     "start_time": "2025-01-16T19:58:47.012833Z"
    }
   },
   "cell_type": "code",
   "source": [
    "contor_dad=0\n",
    "contor_mom=0\n",
    "contor_deedee=0\n",
    "contor_dexter=0\n",
    "contor_unknown=0"
   ],
   "id": "513ec06ba043464a",
   "execution_count": 7,
   "outputs": []
  },
  {
   "metadata": {
    "ExecuteTime": {
     "end_time": "2025-01-16T19:58:47.041808Z",
     "start_time": "2025-01-16T19:58:47.027732Z"
    }
   },
   "cell_type": "code",
   "source": [
    "def scrie_toate_patchurile_pozitive(fisier_imagini,dict_adnotari,fisier_scriere,min_aspect_ratio, max_aspect_ratio):\n",
    "    global contor_dad, contor_mom, contor_deedee, contor_dexter, contor_unknown\n",
    "    files=os.listdir(fisier_imagini)\n",
    "    for file in files:\n",
    "        patch=None\n",
    "        img = cv.imread(fisier_imagini + file)\n",
    "        img = cv.cvtColor(img,cv.COLOR_BGR2GRAY)\n",
    "        img = np.array(img, dtype=np.int32)\n",
    "        keys= dict_adnotari[file].keys()\n",
    "        for key in keys:\n",
    "            for val in dict_adnotari[file][key]:\n",
    "                #width /height \n",
    "                aspect_ratio_adnoatre = (val[2]-val[0])/(val[3]-val[1])\n",
    "                # print(file+' '+ str(aspect_ratio_adnoatre))\n",
    "                if min_aspect_ratio <= aspect_ratio_adnoatre <=max_aspect_ratio:\n",
    "                    margine = 0.1\n",
    "                    # patch=extragere_patch_pozitiv_uniforme(img,val,aspect_ratio)\n",
    "                    height, width = img.shape[:2]  \n",
    "                    x_min, y_min, x_max, y_max = val  \n",
    "                \n",
    "                  \n",
    "                    latime_extra = (x_max - x_min) * margine\n",
    "                    inaltime_extra = (y_max - y_min) * margine\n",
    "                \n",
    "                  \n",
    "                    new_x_min = max(0, int(x_min - latime_extra))\n",
    "                    new_y_min = max(0, int(y_min - inaltime_extra))\n",
    "                    new_x_max = min(width, int(x_max + latime_extra))\n",
    "                    new_y_max = min(height, int(y_max + inaltime_extra))\n",
    "                \n",
    "                    # Extrage patch-ul\n",
    "                    patch = img[new_y_min:new_y_max, new_x_min:new_x_max]\n",
    "                    if key=='dad':\n",
    "                        contor_dad=contor_dad+1\n",
    "                        cv.imwrite(fisier_scriere+'dad_'+str(contor_dad)+'.jpg',patch)\n",
    "                    if key=='mom':\n",
    "                        contor_mom=contor_mom+1\n",
    "                        cv.imwrite(fisier_scriere+'mom_'+str(contor_mom)+'.jpg',patch)\n",
    "                    if key=='deedee':\n",
    "                        contor_deedee=contor_deedee+1\n",
    "                        cv.imwrite(fisier_scriere+'deedee_'+str(contor_deedee)+'.jpg',patch)\n",
    "                    if key=='dexter':\n",
    "                        contor_dexter=contor_dexter+1\n",
    "                        cv.imwrite(fisier_scriere+'dexter_'+str(contor_dexter)+'.jpg',patch)\n",
    "                    if key=='unknown':\n",
    "                        contor_unknown=contor_unknown+1\n",
    "                        cv.imwrite(fisier_scriere+'unknown_'+str(contor_unknown)+'.jpg',patch)"
   ],
   "id": "57b55a1c7e147224",
   "execution_count": 8,
   "outputs": []
  },
  {
   "metadata": {
    "ExecuteTime": {
     "end_time": "2025-01-16T20:00:02.083187Z",
     "start_time": "2025-01-16T19:58:47.043802Z"
    }
   },
   "cell_type": "code",
   "source": [
    "dict_dad=prelucrare_adnotari('./antrenare/dad_annotations.txt')\n",
    "dict_deedee=prelucrare_adnotari('./antrenare/deedee_annotations.txt')\n",
    "dict_dexter=prelucrare_adnotari('./antrenare/dexter_annotations.txt')\n",
    "dict_mom=prelucrare_adnotari('./antrenare/mom_annotations.txt')\n",
    "os.makedirs('./exemple_pozitive_nerestrictive',exist_ok=True)\n",
    "os.makedirs('./exemple_pozitive_nerestrictive/patrat',exist_ok=True)\n",
    "os.makedirs('./exemple_pozitive_nerestrictive/dreptunghi',exist_ok=True)\n",
    "os.makedirs('./exemple_pozitive_nerestrictive/dreptunghi_inalt',exist_ok=True)\n",
    "min_patrat,max_patrat= 0.7, 1.4\n",
    "min_dreptunghi,max_dreptunghi= 1, 3.5\n",
    "min_dreptunghi_inalt, max_dreptunghi_inalt = 0.5, 1.15\n",
    "scrie_toate_patchurile_pozitive('./antrenare/dad/',dict_dad,'./exemple_pozitive_nerestrictive/patrat/',min_patrat,max_patrat)\n",
    "scrie_toate_patchurile_pozitive('./antrenare/deedee/',dict_deedee,'./exemple_pozitive_nerestrictive/patrat/',min_patrat,max_patrat)\n",
    "scrie_toate_patchurile_pozitive('./antrenare/dexter/',dict_dexter,'./exemple_pozitive_nerestrictive/patrat/',min_patrat,max_patrat)\n",
    "scrie_toate_patchurile_pozitive('./antrenare/mom/',dict_mom,'./exemple_pozitive_nerestrictive/patrat/',min_patrat,max_patrat)\n",
    "\n",
    "scrie_toate_patchurile_pozitive('./antrenare/dad/',dict_dad,'./exemple_pozitive_nerestrictive/dreptunghi/',min_dreptunghi,max_dreptunghi)\n",
    "scrie_toate_patchurile_pozitive('./antrenare/deedee/',dict_deedee,'./exemple_pozitive_nerestrictive/dreptunghi/',min_dreptunghi,max_dreptunghi)\n",
    "scrie_toate_patchurile_pozitive('./antrenare/dexter/',dict_dexter,'./exemple_pozitive_nerestrictive/dreptunghi/',min_dreptunghi,max_dreptunghi)\n",
    "scrie_toate_patchurile_pozitive('./antrenare/mom/',dict_mom,'./exemple_pozitive_nerestrictive/dreptunghi/',min_dreptunghi,max_dreptunghi)\n",
    "\n",
    "scrie_toate_patchurile_pozitive('./antrenare/dad/',dict_dad,'./exemple_pozitive_nerestrictive/dreptunghi_inalt/',min_dreptunghi_inalt,max_dreptunghi_inalt)\n",
    "scrie_toate_patchurile_pozitive('./antrenare/deedee/',dict_deedee,'./exemple_pozitive_nerestrictive/dreptunghi_inalt/',min_dreptunghi_inalt,max_dreptunghi_inalt)\n",
    "scrie_toate_patchurile_pozitive('./antrenare/dexter/',dict_dexter,'./exemple_pozitive_nerestrictive/dreptunghi_inalt/',min_dreptunghi_inalt,max_dreptunghi_inalt)\n",
    "scrie_toate_patchurile_pozitive('./antrenare/mom/',dict_mom,'./exemple_pozitive_nerestrictive/dreptunghi_inalt/',min_dreptunghi_inalt,max_dreptunghi_inalt)\n"
   ],
   "id": "6051ce172b192142",
   "execution_count": 9,
   "outputs": []
  }
 ],
 "metadata": {
  "kernelspec": {
   "display_name": "Python 3",
   "language": "python",
   "name": "python3"
  },
  "language_info": {
   "codemirror_mode": {
    "name": "ipython",
    "version": 2
   },
   "file_extension": ".py",
   "mimetype": "text/x-python",
   "name": "python",
   "nbconvert_exporter": "python",
   "pygments_lexer": "ipython2",
   "version": "2.7.6"
  }
 },
 "nbformat": 4,
 "nbformat_minor": 5
}
